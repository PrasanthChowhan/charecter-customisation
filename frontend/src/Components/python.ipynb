{
 "cells": [
  {
   "cell_type": "code",
   "execution_count": 1,
   "metadata": {},
   "outputs": [
    {
     "name": "stdout",
     "output_type": "stream",
     "text": [
      "{'accessories': {'earings': '../Assets/accessories/earings.png', 'flower': '../Assets/accessories/flower.png', 'glasses': '../Assets/accessories/glasses.png', 'headphone': '../Assets/accessories/headphone.png', 'index.js': '../Assets/accessories/index.js'}, 'backgrounds': {'blue50': '../Assets/backgrounds/blue50.png', 'blue60': '../Assets/backgrounds/blue60.png', 'blue70': '../Assets/backgrounds/blue70.png', 'darkblue30': '../Assets/backgrounds/darkblue30.png', 'darkblue50': '../Assets/backgrounds/darkblue50.png', 'darkblue70': '../Assets/backgrounds/darkblue70.png', 'green50': '../Assets/backgrounds/green50.png', 'green60': '../Assets/backgrounds/green60.png', 'green70': '../Assets/backgrounds/green70.png', 'grey40': '../Assets/backgrounds/grey40.png', 'grey70': '../Assets/backgrounds/grey70.png', 'grey80': '../Assets/backgrounds/grey80.png', 'red50': '../Assets/backgrounds/red50.png', 'red60': '../Assets/backgrounds/red60.png', 'red70': '../Assets/backgrounds/red70.png', 'yellow50': '../Assets/backgrounds/yellow50.png', 'yellow60': '../Assets/backgrounds/yellow60.png', 'yellow70': '../Assets/backgrounds/yellow70.png'}, 'ears': {'default': '../Assets/ears/default.png', 'tilt-backward': '../Assets/ears/tilt-backward.png', 'tilt-forward': '../Assets/ears/tilt-forward.png'}, 'eyes': {'angry': '../Assets/eyes/angry.png', 'default': '../Assets/eyes/default.png', 'naughty': '../Assets/eyes/naughty.png', 'panda': '../Assets/eyes/panda.png', 'smart': '../Assets/eyes/smart.png', 'star': '../Assets/eyes/star.png'}, 'hair': {'bang': '../Assets/hair/bang.png', 'curls': '../Assets/hair/curls.png', 'default': '../Assets/hair/default.png', 'elegant': '../Assets/hair/elegant.png', 'fancy': '../Assets/hair/fancy.png', 'quiff': '../Assets/hair/quiff.png', 'short': '../Assets/hair/short.png'}, 'leg': {'bubble-tea': '../Assets/leg/bubble-tea.png', 'cookie': '../Assets/leg/cookie.png', 'default': '../Assets/leg/default.png', 'game-console': '../Assets/leg/game-console.png', 'tilt-backward': '../Assets/leg/tilt-backward.png', 'tilt-forward': '../Assets/leg/tilt-forward.png'}, 'mouth': {'astonished': '../Assets/mouth/astonished.png', 'default': '../Assets/mouth/default.png', 'eating': '../Assets/mouth/eating.png', 'laugh': '../Assets/mouth/laugh.png', 'tongue': '../Assets/mouth/tongue.png'}, 'neck': {'bend-backward': '../Assets/neck/bend-backward.png', 'bend-forward': '../Assets/neck/bend-forward.png', 'default': '../Assets/neck/default.png', 'thick': '../Assets/neck/thick.png'}, 'nose': {'nose': '../Assets/nose/nose.png'}}\n"
     ]
    }
   ],
   "source": [
    "# This code searches the files and group them into disctonery \n",
    "# all files in one directorey are in one dictonary \n",
    "\n",
    "\n",
    "import os\n",
    "path = '../Assets'\n",
    "\n",
    "Assets = os.listdir( path )\n",
    "\n",
    "#  works only for one level down files \n",
    "\n",
    "filelist = []\n",
    "dictonary = {}\n",
    "divison = []\n",
    "images = []\n",
    "location = []\n",
    "imgloclist = []\n",
    "\n",
    "count = 0\n",
    "for root, dirs, files in os.walk(path):\n",
    "   \n",
    "    for file in files:\n",
    "        name = os.path.join(root,file).replace('\\\\','/')\n",
    "       \n",
    "    \n",
    "        filelist.append(name)\n",
    "        split_name = name.split('/')\n",
    "        if split_name[2] not in divison:\n",
    "            divison.append(split_name[2])\n",
    "        img_suffremove = split_name[3].removesuffix('.png')\n",
    "        images.append(img_suffremove)\n",
    "        location.append(name)\n",
    "    \n",
    "    imgl = dict(zip(images,location)) \n",
    "    imgloclist.append(imgl)\n",
    "  \n",
    "    \n",
    "    images = []\n",
    "    location = []\n",
    "    \n",
    "#print all the file names\n",
    "img_location_dict = list(filter(None,(imgloclist)))\n",
    "\n",
    "assetjson = dict(zip(divison,img_location_dict))\n",
    "\n",
    "print(assetjson)\n",
    "\n"
   ]
  },
  {
   "cell_type": "code",
   "execution_count": 17,
   "metadata": {},
   "outputs": [
    {
     "name": "stdout",
     "output_type": "stream",
     "text": [
      "{'accessories': {'earings': '../Assets/accessories/earings.png', 'flower': '../Assets/accessories/flower.png', 'glasses': '../Assets/accessories/glasses.png', 'headphone': '../Assets/accessories/headphone.png'}, 'backgrounds': {'blue50': '../Assets/backgrounds/blue50.png', 'blue60': '../Assets/backgrounds/blue60.png', 'blue70': '../Assets/backgrounds/blue70.png', 'darkblue30': '../Assets/backgrounds/darkblue30.png', 'darkblue50': '../Assets/backgrounds/darkblue50.png', 'darkblue70': '../Assets/backgrounds/darkblue70.png', 'green50': '../Assets/backgrounds/green50.png', 'green60': '../Assets/backgrounds/green60.png', 'green70': '../Assets/backgrounds/green70.png', 'grey40': '../Assets/backgrounds/grey40.png', 'grey70': '../Assets/backgrounds/grey70.png', 'grey80': '../Assets/backgrounds/grey80.png', 'red50': '../Assets/backgrounds/red50.png', 'red60': '../Assets/backgrounds/red60.png', 'red70': '../Assets/backgrounds/red70.png', 'yellow50': '../Assets/backgrounds/yellow50.png', 'yellow60': '../Assets/backgrounds/yellow60.png', 'yellow70': '../Assets/backgrounds/yellow70.png'}, 'ears': {'default': '../Assets/ears/default.png', 'tilt-backward': '../Assets/ears/tilt-backward.png', 'tilt-forward': '../Assets/ears/tilt-forward.png'}, 'eyes': {'angry': '../Assets/eyes/angry.png', 'default': '../Assets/eyes/default.png', 'naughty': '../Assets/eyes/naughty.png', 'panda': '../Assets/eyes/panda.png', 'smart': '../Assets/eyes/smart.png', 'star': '../Assets/eyes/star.png'}, 'hair': {'bang': '../Assets/hair/bang.png', 'curls': '../Assets/hair/curls.png', 'default': '../Assets/hair/default.png', 'elegant': '../Assets/hair/elegant.png', 'fancy': '../Assets/hair/fancy.png', 'quiff': '../Assets/hair/quiff.png', 'short': '../Assets/hair/short.png'}, 'leg': {'bubble-tea': '../Assets/leg/bubble-tea.png', 'cookie': '../Assets/leg/cookie.png', 'default': '../Assets/leg/default.png', 'game-console': '../Assets/leg/game-console.png', 'tilt-backward': '../Assets/leg/tilt-backward.png', 'tilt-forward': '../Assets/leg/tilt-forward.png'}, 'mouth': {'astonished': '../Assets/mouth/astonished.png', 'default': '../Assets/mouth/default.png', 'eating': '../Assets/mouth/eating.png', 'laugh': '../Assets/mouth/laugh.png', 'tongue': '../Assets/mouth/tongue.png'}, 'neck': {'bend-backward': '../Assets/neck/bend-backward.png', 'bend-forward': '../Assets/neck/bend-forward.png', 'default': '../Assets/neck/default.png', 'thick': '../Assets/neck/thick.png'}, 'nose': {'nose': '../Assets/nose/nose.png'}}\n"
     ]
    }
   ],
   "source": []
  },
  {
   "cell_type": "code",
   "execution_count": null,
   "metadata": {},
   "outputs": [],
   "source": []
  }
 ],
 "metadata": {
  "interpreter": {
   "hash": "fb934977ff34813bdc8bf80fb5ce83580a78477c2cdc68af0f4e09c62c202a49"
  },
  "kernelspec": {
   "display_name": "Python 3.10.2 64-bit",
   "language": "python",
   "name": "python3"
  },
  "language_info": {
   "codemirror_mode": {
    "name": "ipython",
    "version": 3
   },
   "file_extension": ".py",
   "mimetype": "text/x-python",
   "name": "python",
   "nbconvert_exporter": "python",
   "pygments_lexer": "ipython3",
   "version": "3.10.2"
  },
  "orig_nbformat": 4
 },
 "nbformat": 4,
 "nbformat_minor": 2
}
